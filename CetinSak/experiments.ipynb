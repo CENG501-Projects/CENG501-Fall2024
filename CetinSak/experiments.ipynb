{
 "cells": [
  {
   "cell_type": "markdown",
   "metadata": {},
   "source": [
    "# How Deep Networks Learn Sparse and Hierarchical Data: the Sparse Random Hierarchy Model\n",
    "\n",
    "This is an interactive implementation of the paper by Tomasini and Wyart (2024). Step-by-step both the implementation and ideas behind the paper will be explained. We aim to make an annotated notebook similar to the (Annotated Transformer)[https://nlp.seas.harvard.edu/2018/04/03/attention.html].\n",
    "\n",
    "Below, each section will cover a key part from the paper."
   ]
  },
  {
   "cell_type": "code",
   "execution_count": null,
   "metadata": {},
   "outputs": [],
   "source": [
    "# TODO"
   ]
  }
 ],
 "metadata": {
  "language_info": {
   "name": "python"
  }
 },
 "nbformat": 4,
 "nbformat_minor": 2
}
