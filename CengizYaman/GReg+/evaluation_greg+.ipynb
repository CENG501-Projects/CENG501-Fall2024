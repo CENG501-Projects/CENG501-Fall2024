{
  "nbformat": 4,
  "nbformat_minor": 0,
  "metadata": {
    "colab": {
      "provenance": [],
      "gpuType": "T4",
      "collapsed_sections": [
        "kqEBXzyQkO61",
        "J30l7_PKkR5d",
        "EeC0BxCNkZ4I",
        "uqmPucPfkdBV",
        "l2usiM5-komx"
      ]
    },
    "kernelspec": {
      "name": "python3",
      "display_name": "Python 3"
    },
    "language_info": {
      "name": "python"
    },
    "accelerator": "GPU"
  },
  "cells": [
    {
      "cell_type": "markdown",
      "source": [
        "# Import Libraries"
      ],
      "metadata": {
        "id": "kqEBXzyQkO61"
      }
    },
    {
      "cell_type": "code",
      "source": [
        "import torch\n",
        "from torchvision import datasets, transforms, models\n",
        "from torch.utils.data import DataLoader\n",
        "from sklearn.metrics import roc_auc_score, roc_curve, auc\n",
        "import numpy as np\n",
        "import matplotlib.pyplot as plt\n",
        "from torch.utils.data import Dataset\n",
        "import os\n",
        "from sklearn.metrics import roc_auc_score, roc_curve\n",
        "import torch.nn.functional as F\n",
        "import torch.nn as nn\n",
        "from torchvision.datasets import ImageFolder\n",
        "from tqdm import tqdm\n",
        "from PIL import Image"
      ],
      "metadata": {
        "id": "U5xlRZbrZQjy"
      },
      "execution_count": null,
      "outputs": []
    },
    {
      "cell_type": "markdown",
      "source": [
        "# Common Functions"
      ],
      "metadata": {
        "id": "J30l7_PKkR5d"
      }
    },
    {
      "cell_type": "code",
      "source": [
        "class ImageDataset(Dataset):\n",
        "    def __init__(self, directory, transform=None):\n",
        "        self.directory = directory\n",
        "        self.image_paths = [os.path.join(directory, fname) for fname in os.listdir(directory) if fname.endswith(('.png', '.jpg', '.jpeg'))]\n",
        "        self.transform = transform\n",
        "\n",
        "    def __len__(self):\n",
        "        return len(self.image_paths)\n",
        "\n",
        "    def __getitem__(self, idx):\n",
        "        img_path = self.image_paths[idx]\n",
        "        image = Image.open(img_path).convert('RGB')\n",
        "        if self.transform:\n",
        "            image = self.transform(image)\n",
        "        return image, 0\n",
        "\n",
        "class RecursiveDataset(Dataset):\n",
        "    def __init__(self, root_dir, transform=None):\n",
        "\n",
        "        self.image_paths = []\n",
        "        for root, _, files in os.walk(root_dir):\n",
        "            for fname in files:\n",
        "                if fname.endswith(('.png', '.jpg', '.jpeg')):\n",
        "                    self.image_paths.append(os.path.join(root, fname))\n",
        "        self.transform = transform\n",
        "\n",
        "    def __len__(self):\n",
        "        return len(self.image_paths)\n",
        "\n",
        "    def __getitem__(self, idx):\n",
        "        img_path = self.image_paths[idx]\n",
        "        image = Image.open(img_path).convert('RGB')\n",
        "        if self.transform:\n",
        "            image = self.transform(image)\n",
        "        return image, 0"
      ],
      "metadata": {
        "id": "7PZdzkbdZR-J"
      },
      "execution_count": null,
      "outputs": []
    },
    {
      "cell_type": "code",
      "source": [
        "def evaluate_model(model, id_dataloader, ood_dataloader, device):\n",
        "    \"\"\"\n",
        "    Evaluates the model's performance on ID and OOD datasets.\n",
        "\n",
        "    Parameters:\n",
        "    - model: Trained model\n",
        "    - id_dataloader: DataLoader for ID data\n",
        "    - ood_dataloader: DataLoader for OOD data\n",
        "\n",
        "    Returns:\n",
        "    - metrics: Dictionary with AUROC and FPR95 metrics\n",
        "    \"\"\"\n",
        "    model.eval()\n",
        "    id_scores = []\n",
        "    ood_scores = []\n",
        "\n",
        "    # Compute ID scores with progress tracking\n",
        "    print(\"Evaluating In-Distribution (ID) Dataset...\")\n",
        "    for id_inputs, _ in tqdm(id_dataloader, desc=\"ID Progress\", leave=False):\n",
        "        id_inputs = id_inputs.to(device)\n",
        "        with torch.no_grad():\n",
        "            id_outputs = model(id_inputs)\n",
        "            id_outputs = id_outputs\n",
        "            id_energy_scores = -torch.logsumexp(id_outputs, dim=1)\n",
        "            id_scores.extend(id_energy_scores.cpu().numpy())\n",
        "\n",
        "    # Compute OOD scores with progress tracking\n",
        "    print(\"Evaluating Out-of-Distribution (OOD) Dataset...\")\n",
        "    for ood_inputs, _ in tqdm(ood_dataloader, desc=\"OOD Progress\", leave=False):\n",
        "        ood_inputs = ood_inputs.to(device)\n",
        "        with torch.no_grad():\n",
        "            ood_outputs = model(ood_inputs)\n",
        "            ood_outputs = ood_outputs\n",
        "            ood_energy_scores = -torch.logsumexp(ood_outputs, dim=1)\n",
        "            ood_scores.extend(ood_energy_scores.cpu().numpy())\n",
        "\n",
        "    # Invert energy scores so that higher scores correspond to ID\n",
        "    id_scores = -np.array(id_scores)\n",
        "    ood_scores = -np.array(ood_scores)\n",
        "\n",
        "    # Concatenate scores and true labels\n",
        "    y_true = np.concatenate([np.ones(len(id_scores)), np.zeros(len(ood_scores))])\n",
        "    y_scores = np.concatenate([id_scores, ood_scores])\n",
        "\n",
        "    # Calculate AUROC\n",
        "    auroc = roc_auc_score(y_true, y_scores)\n",
        "\n",
        "    # Calculate FPR95\n",
        "    fpr, tpr, thresholds = roc_curve(y_true, y_scores)\n",
        "    # Find the FPR where TPR >= 95%\n",
        "    try:\n",
        "        idx = np.where(tpr >= 0.95)[0][0]\n",
        "        fpr95 = fpr[idx]\n",
        "    except IndexError:\n",
        "        fpr95 = 1.0\n",
        "\n",
        "    metrics = {\n",
        "        \"AUROC\": auroc,\n",
        "        \"FPR95\": fpr95\n",
        "    }\n",
        "\n",
        "    return metrics"
      ],
      "metadata": {
        "id": "FKsnNtgzkmRc"
      },
      "execution_count": null,
      "outputs": []
    },
    {
      "cell_type": "markdown",
      "source": [
        "# Create Dataloaders"
      ],
      "metadata": {
        "id": "EeC0BxCNkZ4I"
      }
    },
    {
      "cell_type": "code",
      "source": [
        "transform_cifar = transforms.Compose([\n",
        "    transforms.Resize((224, 224)),\n",
        "    transforms.ToTensor(),\n",
        "    transforms.Normalize((0.485, 0.456, 0.406),  # ImageNet mean\n",
        "                         (0.229, 0.224, 0.225))\n",
        "])"
      ],
      "metadata": {
        "id": "1gKZuJOnZXdL"
      },
      "execution_count": null,
      "outputs": []
    },
    {
      "cell_type": "code",
      "source": [
        "batch_size = 64\n",
        "\n",
        "ood_dataset_path = '/path/to/dataset'\n",
        "ood_dataset = ImageDataset(ood_dataset_path, transform=transform_cifar)\n",
        "ood_dataloader = DataLoader(ood_dataset, batch_size=batch_size, shuffle=False, num_workers=16)\n",
        "\n",
        "cifar10_dataset_path = '/path/to/dataset'\n",
        "cifar10_test = datasets.CIFAR10(root=cifar10_dataset_path, train=False, download=True, transform=transform_cifar)\n",
        "cifar10_test_dataloader = DataLoader(cifar10_test, batch_size=batch_size, shuffle=False, num_workers=16)\n",
        "\n",
        "cifar100_dataset_path = '/path/to/dataset'\n",
        "cifar100_test = datasets.CIFAR100(root=cifar100_dataset_path, train=False, download=True, transform=transform_cifar)\n",
        "cifar100_test_dataloader = DataLoader(cifar100_test, batch_size=batch_size, shuffle=False, num_workers=16)"
      ],
      "metadata": {
        "colab": {
          "base_uri": "https://localhost:8080/"
        },
        "id": "_Ujtt5VxZYzp",
        "outputId": "dedb196f-5eef-4212-b8e8-3cfc21028c16"
      },
      "execution_count": null,
      "outputs": [
        {
          "output_type": "stream",
          "name": "stderr",
          "text": [
            "/usr/local/lib/python3.10/dist-packages/torch/utils/data/dataloader.py:617: UserWarning: This DataLoader will create 16 worker processes in total. Our suggested max number of worker in current system is 2, which is smaller than what this DataLoader is going to create. Please be aware that excessive worker creation might get DataLoader running slow or even freeze, lower the worker number to avoid potential slowness/freeze if necessary.\n",
            "  warnings.warn(\n"
          ]
        },
        {
          "output_type": "stream",
          "name": "stdout",
          "text": [
            "Files already downloaded and verified\n"
          ]
        }
      ]
    },
    {
      "cell_type": "markdown",
      "source": [
        "# Create the Model and Load Weights"
      ],
      "metadata": {
        "id": "uqmPucPfkdBV"
      }
    },
    {
      "cell_type": "code",
      "source": [
        "class ResNet18(nn.Module):\n",
        "    def __init__(self, num_classes=10):\n",
        "        super().__init__()\n",
        "        base_model = models.resnet18(pretrained=False)\n",
        "        self.features = nn.Sequential(*list(base_model.children())[:-1])\n",
        "        self.fc = nn.Linear(512, num_classes)\n",
        "\n",
        "    def forward(self, x):\n",
        "        features = self.features(x)\n",
        "        features = features.view(features.size(0), -1)\n",
        "        out = self.fc(features)\n",
        "        return out\n",
        "\n",
        "    def get_features(self, x):\n",
        "        features = self.features(x)\n",
        "        return features.view(features.size(0), -1)"
      ],
      "metadata": {
        "id": "kAm_0eR6bEw9"
      },
      "execution_count": null,
      "outputs": []
    },
    {
      "cell_type": "code",
      "source": [
        "device = torch.device(\"cuda\")\n",
        "model = ResNet18(num_classes=10) # adjust for number of classes\n",
        "state_dict = torch.load(\"/path/to/model/weights\")\n",
        "\n",
        "# create a new state dict if trained with multiple GPUs (optional)\n",
        "new_state_dict = {}\n",
        "for k, v in state_dict.items():\n",
        "    new_key = k.replace('module.', '') if k.startswith('module.') else k\n",
        "    new_state_dict[new_key] = v\n",
        "\n",
        "model.load_state_dict(new_state_dict)\n",
        "model.to(device)"
      ],
      "metadata": {
        "id": "aNJ5ZF5mZcQe",
        "colab": {
          "base_uri": "https://localhost:8080/"
        },
        "outputId": "d0d5849d-24d2-4a4c-af31-a27c5757eb7d"
      },
      "execution_count": null,
      "outputs": [
        {
          "output_type": "stream",
          "name": "stderr",
          "text": [
            "/usr/local/lib/python3.10/dist-packages/torchvision/models/_utils.py:208: UserWarning: The parameter 'pretrained' is deprecated since 0.13 and may be removed in the future, please use 'weights' instead.\n",
            "  warnings.warn(\n",
            "/usr/local/lib/python3.10/dist-packages/torchvision/models/_utils.py:223: UserWarning: Arguments other than a weight enum or `None` for 'weights' are deprecated since 0.13 and may be removed in the future. The current behavior is equivalent to passing `weights=None`.\n",
            "  warnings.warn(msg)\n",
            "<ipython-input-7-510fa30399bc>:3: FutureWarning: You are using `torch.load` with `weights_only=False` (the current default value), which uses the default pickle module implicitly. It is possible to construct malicious pickle data which will execute arbitrary code during unpickling (See https://github.com/pytorch/pytorch/blob/main/SECURITY.md#untrusted-models for more details). In a future release, the default value for `weights_only` will be flipped to `True`. This limits the functions that could be executed during unpickling. Arbitrary objects will no longer be allowed to be loaded via this mode unless they are explicitly allowlisted by the user via `torch.serialization.add_safe_globals`. We recommend you start setting `weights_only=True` for any use case where you don't have full control of the loaded file. Please open an issue on GitHub for any issues related to this experimental feature.\n",
            "  state_dict = torch.load(\"/content/drive/MyDrive/Greg Greg+ Models/resnet_greg+_cifar10.pt\")\n"
          ]
        },
        {
          "output_type": "execute_result",
          "data": {
            "text/plain": [
              "ResNet18(\n",
              "  (features): Sequential(\n",
              "    (0): Conv2d(3, 64, kernel_size=(7, 7), stride=(2, 2), padding=(3, 3), bias=False)\n",
              "    (1): BatchNorm2d(64, eps=1e-05, momentum=0.1, affine=True, track_running_stats=True)\n",
              "    (2): ReLU(inplace=True)\n",
              "    (3): MaxPool2d(kernel_size=3, stride=2, padding=1, dilation=1, ceil_mode=False)\n",
              "    (4): Sequential(\n",
              "      (0): BasicBlock(\n",
              "        (conv1): Conv2d(64, 64, kernel_size=(3, 3), stride=(1, 1), padding=(1, 1), bias=False)\n",
              "        (bn1): BatchNorm2d(64, eps=1e-05, momentum=0.1, affine=True, track_running_stats=True)\n",
              "        (relu): ReLU(inplace=True)\n",
              "        (conv2): Conv2d(64, 64, kernel_size=(3, 3), stride=(1, 1), padding=(1, 1), bias=False)\n",
              "        (bn2): BatchNorm2d(64, eps=1e-05, momentum=0.1, affine=True, track_running_stats=True)\n",
              "      )\n",
              "      (1): BasicBlock(\n",
              "        (conv1): Conv2d(64, 64, kernel_size=(3, 3), stride=(1, 1), padding=(1, 1), bias=False)\n",
              "        (bn1): BatchNorm2d(64, eps=1e-05, momentum=0.1, affine=True, track_running_stats=True)\n",
              "        (relu): ReLU(inplace=True)\n",
              "        (conv2): Conv2d(64, 64, kernel_size=(3, 3), stride=(1, 1), padding=(1, 1), bias=False)\n",
              "        (bn2): BatchNorm2d(64, eps=1e-05, momentum=0.1, affine=True, track_running_stats=True)\n",
              "      )\n",
              "    )\n",
              "    (5): Sequential(\n",
              "      (0): BasicBlock(\n",
              "        (conv1): Conv2d(64, 128, kernel_size=(3, 3), stride=(2, 2), padding=(1, 1), bias=False)\n",
              "        (bn1): BatchNorm2d(128, eps=1e-05, momentum=0.1, affine=True, track_running_stats=True)\n",
              "        (relu): ReLU(inplace=True)\n",
              "        (conv2): Conv2d(128, 128, kernel_size=(3, 3), stride=(1, 1), padding=(1, 1), bias=False)\n",
              "        (bn2): BatchNorm2d(128, eps=1e-05, momentum=0.1, affine=True, track_running_stats=True)\n",
              "        (downsample): Sequential(\n",
              "          (0): Conv2d(64, 128, kernel_size=(1, 1), stride=(2, 2), bias=False)\n",
              "          (1): BatchNorm2d(128, eps=1e-05, momentum=0.1, affine=True, track_running_stats=True)\n",
              "        )\n",
              "      )\n",
              "      (1): BasicBlock(\n",
              "        (conv1): Conv2d(128, 128, kernel_size=(3, 3), stride=(1, 1), padding=(1, 1), bias=False)\n",
              "        (bn1): BatchNorm2d(128, eps=1e-05, momentum=0.1, affine=True, track_running_stats=True)\n",
              "        (relu): ReLU(inplace=True)\n",
              "        (conv2): Conv2d(128, 128, kernel_size=(3, 3), stride=(1, 1), padding=(1, 1), bias=False)\n",
              "        (bn2): BatchNorm2d(128, eps=1e-05, momentum=0.1, affine=True, track_running_stats=True)\n",
              "      )\n",
              "    )\n",
              "    (6): Sequential(\n",
              "      (0): BasicBlock(\n",
              "        (conv1): Conv2d(128, 256, kernel_size=(3, 3), stride=(2, 2), padding=(1, 1), bias=False)\n",
              "        (bn1): BatchNorm2d(256, eps=1e-05, momentum=0.1, affine=True, track_running_stats=True)\n",
              "        (relu): ReLU(inplace=True)\n",
              "        (conv2): Conv2d(256, 256, kernel_size=(3, 3), stride=(1, 1), padding=(1, 1), bias=False)\n",
              "        (bn2): BatchNorm2d(256, eps=1e-05, momentum=0.1, affine=True, track_running_stats=True)\n",
              "        (downsample): Sequential(\n",
              "          (0): Conv2d(128, 256, kernel_size=(1, 1), stride=(2, 2), bias=False)\n",
              "          (1): BatchNorm2d(256, eps=1e-05, momentum=0.1, affine=True, track_running_stats=True)\n",
              "        )\n",
              "      )\n",
              "      (1): BasicBlock(\n",
              "        (conv1): Conv2d(256, 256, kernel_size=(3, 3), stride=(1, 1), padding=(1, 1), bias=False)\n",
              "        (bn1): BatchNorm2d(256, eps=1e-05, momentum=0.1, affine=True, track_running_stats=True)\n",
              "        (relu): ReLU(inplace=True)\n",
              "        (conv2): Conv2d(256, 256, kernel_size=(3, 3), stride=(1, 1), padding=(1, 1), bias=False)\n",
              "        (bn2): BatchNorm2d(256, eps=1e-05, momentum=0.1, affine=True, track_running_stats=True)\n",
              "      )\n",
              "    )\n",
              "    (7): Sequential(\n",
              "      (0): BasicBlock(\n",
              "        (conv1): Conv2d(256, 512, kernel_size=(3, 3), stride=(2, 2), padding=(1, 1), bias=False)\n",
              "        (bn1): BatchNorm2d(512, eps=1e-05, momentum=0.1, affine=True, track_running_stats=True)\n",
              "        (relu): ReLU(inplace=True)\n",
              "        (conv2): Conv2d(512, 512, kernel_size=(3, 3), stride=(1, 1), padding=(1, 1), bias=False)\n",
              "        (bn2): BatchNorm2d(512, eps=1e-05, momentum=0.1, affine=True, track_running_stats=True)\n",
              "        (downsample): Sequential(\n",
              "          (0): Conv2d(256, 512, kernel_size=(1, 1), stride=(2, 2), bias=False)\n",
              "          (1): BatchNorm2d(512, eps=1e-05, momentum=0.1, affine=True, track_running_stats=True)\n",
              "        )\n",
              "      )\n",
              "      (1): BasicBlock(\n",
              "        (conv1): Conv2d(512, 512, kernel_size=(3, 3), stride=(1, 1), padding=(1, 1), bias=False)\n",
              "        (bn1): BatchNorm2d(512, eps=1e-05, momentum=0.1, affine=True, track_running_stats=True)\n",
              "        (relu): ReLU(inplace=True)\n",
              "        (conv2): Conv2d(512, 512, kernel_size=(3, 3), stride=(1, 1), padding=(1, 1), bias=False)\n",
              "        (bn2): BatchNorm2d(512, eps=1e-05, momentum=0.1, affine=True, track_running_stats=True)\n",
              "      )\n",
              "    )\n",
              "    (8): AdaptiveAvgPool2d(output_size=(1, 1))\n",
              "  )\n",
              "  (fc): Linear(in_features=512, out_features=10, bias=True)\n",
              ")"
            ]
          },
          "metadata": {},
          "execution_count": 7
        }
      ]
    },
    {
      "cell_type": "markdown",
      "source": [
        "# Evaluation Statistics"
      ],
      "metadata": {
        "id": "l2usiM5-komx"
      }
    },
    {
      "cell_type": "code",
      "source": [
        "metrics = evaluate_model(model, cifar10_test_dataloader, ood_dataloader, device)"
      ],
      "metadata": {
        "colab": {
          "base_uri": "https://localhost:8080/"
        },
        "id": "_3XtbVP3ZfJX",
        "outputId": "43fac900-51e9-4545-e75f-2c5bb07b6167"
      },
      "execution_count": null,
      "outputs": [
        {
          "output_type": "stream",
          "name": "stdout",
          "text": [
            "Evaluating In-Distribution (ID) Dataset...\n"
          ]
        },
        {
          "output_type": "stream",
          "name": "stderr",
          "text": []
        },
        {
          "output_type": "stream",
          "name": "stdout",
          "text": [
            "Evaluating Out-of-Distribution (OOD) Dataset...\n"
          ]
        },
        {
          "output_type": "stream",
          "name": "stderr",
          "text": []
        }
      ]
    },
    {
      "cell_type": "code",
      "source": [
        "print(f\"AUROC: {metrics['AUROC']:.4f}, FPR95: {metrics['FPR95']:.4f}\")"
      ],
      "metadata": {
        "id": "Ogrl5P45ZgXg",
        "colab": {
          "base_uri": "https://localhost:8080/"
        },
        "outputId": "eaa06588-b8c8-4483-dc2a-bd310fb6f2ac"
      },
      "execution_count": null,
      "outputs": [
        {
          "output_type": "stream",
          "name": "stdout",
          "text": [
            "AUROC: 0.3375, FPR95: 0.9919\n"
          ]
        }
      ]
    }
  ]
}