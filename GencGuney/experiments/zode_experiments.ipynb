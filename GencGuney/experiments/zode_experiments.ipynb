{
  "cells": [
    {
      "cell_type": "markdown",
      "metadata": {
        "id": "-tlo14p6AWPD"
      },
      "source": [
        "## Setup"
      ]
    },
    {
      "cell_type": "code",
      "execution_count": null,
      "metadata": {
        "colab": {
          "base_uri": "https://localhost:8080/"
        },
        "id": "Riutqw3c9ehX",
        "outputId": "b4425c8f-b8ad-41ab-dc16-741afccbb791"
      },
      "outputs": [],
      "source": [
        "!pip install gdown\n",
        "!pip install lmdb"
      ]
    },
    {
      "cell_type": "code",
      "execution_count": null,
      "metadata": {
        "colab": {
          "base_uri": "https://localhost:8080/"
        },
        "id": "EPTWmRhGq9Kk",
        "outputId": "57be4b92-d3fb-41c8-f01b-eed0f6499de3"
      },
      "outputs": [],
      "source": [
        "from google.colab import drive\n",
        "drive.mount('/content/drive')\n"
      ]
    },
    {
      "cell_type": "code",
      "execution_count": null,
      "metadata": {
        "colab": {
          "base_uri": "https://localhost:8080/"
        },
        "id": "fMzLzbKIqIuc",
        "outputId": "045db51d-ae3e-4029-8ec6-2eb024139ca0"
      },
      "outputs": [],
      "source": [
        "!unzip zode-paper-implementation.zip -d /content/"
      ]
    },
    {
      "cell_type": "code",
      "execution_count": null,
      "metadata": {
        "colab": {
          "base_uri": "https://localhost:8080/"
        },
        "id": "cPeTMjwnAxcU",
        "outputId": "9f635721-2670-4d50-bb63-9b9c8609acc6"
      },
      "outputs": [],
      "source": [
        "!cp -r /content/drive/MyDrive/weights -d /content/zode-paper-implementation/weights"
      ]
    },
    {
      "cell_type": "code",
      "execution_count": null,
      "metadata": {
        "colab": {
          "base_uri": "https://localhost:8080/"
        },
        "id": "hFDVdlnSA-2U",
        "outputId": "10972184-9a6d-41b4-b72e-6e07159b5be6"
      },
      "outputs": [],
      "source": [
        "%cd zode-paper-implementation"
      ]
    },
    {
      "cell_type": "markdown",
      "metadata": {
        "id": "rXxqgatjAZn_"
      },
      "source": [
        "## Download Datasets"
      ]
    },
    {
      "cell_type": "code",
      "execution_count": null,
      "metadata": {
        "colab": {
          "base_uri": "https://localhost:8080/"
        },
        "id": "IigGCuvoocKA",
        "outputId": "fb0cf2d4-2237-4305-d795-548e14c9b594"
      },
      "outputs": [],
      "source": [
        "!python data/download_datasets.py --places365 --test\n",
        "!python data/download_datasets.py --lsun --test\n",
        "!python data/download_datasets.py --isun --test\n",
        "!python data/download_datasets.py --texture --test"
      ]
    },
    {
      "cell_type": "markdown",
      "metadata": {
        "id": "cKjS4q8aAjNQ"
      },
      "source": [
        "## Energy"
      ]
    },
    {
      "cell_type": "code",
      "execution_count": null,
      "metadata": {
        "colab": {
          "base_uri": "https://localhost:8080/"
        },
        "id": "bWOekm-yBO7x",
        "outputId": "919309f8-f62b-4d2f-fa0b-a1f4c2974f17"
      },
      "outputs": [],
      "source": [
        "!python zode_pipeline.py --model_names resnet18,resnet34,resnet50,resnet101,densenet121 --score_method energy --ood_dataset svhn --weights weights --device cuda"
      ]
    },
    {
      "cell_type": "code",
      "execution_count": null,
      "metadata": {
        "colab": {
          "base_uri": "https://localhost:8080/"
        },
        "id": "DeB3I3NV3No-",
        "outputId": "146f0205-1f17-4901-fb9b-f4bcfd74b2af"
      },
      "outputs": [],
      "source": [
        "!python zode_pipeline.py --model_names resnet18,resnet34,resnet50,resnet101,densenet121 --score_method energy --ood_dataset places365 --weights weights --device cuda"
      ]
    },
    {
      "cell_type": "code",
      "execution_count": null,
      "metadata": {
        "colab": {
          "base_uri": "https://localhost:8080/"
        },
        "id": "-rf-U0cu1A9X",
        "outputId": "eb412149-6513-45af-effc-12f53496e37f"
      },
      "outputs": [],
      "source": [
        "!python zode_pipeline.py --model_names resnet18,resnet34,resnet50,resnet101,densenet121 --score_method energy --ood_dataset lsun --weights weights --device cuda"
      ]
    },
    {
      "cell_type": "code",
      "execution_count": null,
      "metadata": {
        "colab": {
          "base_uri": "https://localhost:8080/"
        },
        "id": "SDqihQBYFwxX",
        "outputId": "1639807c-e419-491d-e8be-1037d3d4e370"
      },
      "outputs": [],
      "source": [
        "!python zode_pipeline.py --model_names resnet18,resnet34,resnet50,resnet101,densenet121 --score_method energy --ood_dataset isun --weights weights --device cuda"
      ]
    },
    {
      "cell_type": "code",
      "execution_count": null,
      "metadata": {
        "colab": {
          "base_uri": "https://localhost:8080/"
        },
        "id": "auodvHrvLIzk",
        "outputId": "e1ae8f89-4a1a-478c-abd5-9e2df8781a69"
      },
      "outputs": [],
      "source": [
        "!python zode_pipeline.py --model_names resnet18,resnet34,resnet50,resnet101,densenet121 --score_method energy --ood_dataset texture --weights weights --device cuda"
      ]
    },
    {
      "cell_type": "markdown",
      "metadata": {
        "id": "2w2ibPXCArdr"
      },
      "source": [
        "## Mahalanobis"
      ]
    },
    {
      "cell_type": "code",
      "execution_count": null,
      "metadata": {
        "colab": {
          "base_uri": "https://localhost:8080/"
        },
        "id": "ltKUeHkcLCs7",
        "outputId": "534ac5f6-3608-4660-9240-a06069e30a0a"
      },
      "outputs": [],
      "source": [
        "!python zode_pipeline.py --model_names resnet18,resnet34,resnet50,resnet101,densenet121 --score_method mahalanobis --ood_dataset svhn --weights weights --device cuda"
      ]
    },
    {
      "cell_type": "code",
      "execution_count": null,
      "metadata": {
        "colab": {
          "base_uri": "https://localhost:8080/"
        },
        "id": "vbtctcW0Li4f",
        "outputId": "9fcd982a-6053-4bb5-faf2-c71b4d9a2e51"
      },
      "outputs": [],
      "source": [
        "!python zode_pipeline.py --model_names resnet18,resnet34,resnet50,resnet101,densenet121 --score_method mahalanobis --ood_dataset lsun --weights weights --device cuda"
      ]
    },
    {
      "cell_type": "code",
      "execution_count": null,
      "metadata": {
        "colab": {
          "base_uri": "https://localhost:8080/"
        },
        "id": "4xpDKGD2QHmN",
        "outputId": "9646304b-28c0-4ff9-ea95-73c1e80cecf4"
      },
      "outputs": [],
      "source": [
        "!python zode_pipeline.py --model_names resnet18,resnet34,resnet50,resnet101,densenet121 --score_method mahalanobis --ood_dataset isun --weights weights --device cuda"
      ]
    },
    {
      "cell_type": "code",
      "execution_count": null,
      "metadata": {
        "colab": {
          "base_uri": "https://localhost:8080/"
        },
        "id": "dXkw67zPQIm2",
        "outputId": "765d87fb-e83e-44e8-effb-5e077f62750a"
      },
      "outputs": [],
      "source": [
        "!python zode_pipeline.py --model_names resnet18,resnet34,resnet50,resnet101,densenet121 --score_method mahalanobis --ood_dataset texture --weights weights --device cuda"
      ]
    },
    {
      "cell_type": "code",
      "execution_count": null,
      "metadata": {
        "colab": {
          "base_uri": "https://localhost:8080/"
        },
        "id": "KORBgQevQKlw",
        "outputId": "e69fcad0-cf0e-4667-ef75-873d18720a0a"
      },
      "outputs": [],
      "source": [
        "!python zode_pipeline.py --model_names resnet18,resnet34,resnet50,resnet101,densenet121 --score_method mahalanobis --ood_dataset places365 --weights weights --device cuda"
      ]
    },
    {
      "cell_type": "markdown",
      "metadata": {
        "id": "Txxv7N7LA3XG"
      },
      "source": [
        "## KNN"
      ]
    },
    {
      "cell_type": "code",
      "execution_count": null,
      "metadata": {
        "colab": {
          "base_uri": "https://localhost:8080/"
        },
        "id": "R1a1jzt_QMYP",
        "outputId": "7eab944f-7ef1-4ded-88ec-8d6afb70e1ed"
      },
      "outputs": [],
      "source": [
        "!python zode_pipeline.py --model_names resnet18,resnet34,resnet50,resnet101,densenet121 --score_method knn --ood_dataset svhn --weights weights --device cuda --k_neighbors 50"
      ]
    },
    {
      "cell_type": "code",
      "execution_count": null,
      "metadata": {
        "colab": {
          "background_save": true,
          "base_uri": "https://localhost:8080/"
        },
        "id": "yrCDavuUWa3f",
        "outputId": "b79d7f6b-a3b7-4a26-f10a-d3ab49b9e2f9"
      },
      "outputs": [],
      "source": [
        "!python zode_pipeline.py --model_names resnet18,resnet34,resnet50,resnet101,densenet121 --score_method knn --ood_dataset lsun --weights weights --device cuda --k_neighbors 50"
      ]
    },
    {
      "cell_type": "code",
      "execution_count": null,
      "metadata": {
        "id": "_tE0yUVoWa02"
      },
      "outputs": [],
      "source": [
        "!python zode_pipeline.py --model_names resnet18,resnet34,resnet50,resnet101,densenet121 --score_method knn --ood_dataset isun --weights weights --device cuda --k_neighbors 50"
      ]
    },
    {
      "cell_type": "code",
      "execution_count": null,
      "metadata": {
        "colab": {
          "base_uri": "https://localhost:8080/"
        },
        "id": "vrbsXWHsWayw",
        "outputId": "5d9a5f81-1157-4989-ee62-19939eb86815"
      },
      "outputs": [],
      "source": [
        "!python zode_pipeline.py --model_names resnet18,resnet34,resnet50,resnet101,densenet121 --score_method knn --ood_dataset texture --weights weights --device cuda --k_neighbors 50"
      ]
    },
    {
      "cell_type": "code",
      "execution_count": null,
      "metadata": {
        "id": "MS-MykDXWawb"
      },
      "outputs": [],
      "source": [
        "!python zode_pipeline.py --model_names resnet18,resnet34,resnet50,resnet101,densenet121 --score_method knn --ood_dataset places365 --weights weights --device cuda --k_neighbors 50"
      ]
    },
    {
      "cell_type": "markdown",
      "metadata": {
        "id": "mMB8IFFBBAKH"
      },
      "source": [
        "## MSP"
      ]
    },
    {
      "cell_type": "code",
      "execution_count": null,
      "metadata": {
        "colab": {
          "base_uri": "https://localhost:8080/"
        },
        "id": "YFiTH0i1WauG",
        "outputId": "6a0f00ce-d232-4498-f2ee-f25269e9be9c"
      },
      "outputs": [],
      "source": [
        "!python zode_pipeline.py --model_names resnet18,resnet34,resnet50,resnet101,densenet121 --score_method msp --ood_dataset svhn --weights weights --device cuda"
      ]
    },
    {
      "cell_type": "code",
      "execution_count": null,
      "metadata": {
        "colab": {
          "base_uri": "https://localhost:8080/"
        },
        "id": "ge1pKh0mBHZJ",
        "outputId": "11b64522-1e98-41a6-aa30-6d558932f138"
      },
      "outputs": [],
      "source": [
        "!python zode_pipeline.py --model_names resnet18,resnet34,resnet50,resnet101,densenet121 --score_method msp --ood_dataset lsun --weights weights --device cuda"
      ]
    },
    {
      "cell_type": "code",
      "execution_count": null,
      "metadata": {
        "colab": {
          "base_uri": "https://localhost:8080/"
        },
        "id": "keYjN_CqBMck",
        "outputId": "1632e403-04a9-48e6-f803-ae3a0efa1e4d"
      },
      "outputs": [],
      "source": [
        "!python zode_pipeline.py --model_names resnet18,resnet34,resnet50,resnet101,densenet121 --score_method msp --ood_dataset isun --weights weights --device cuda"
      ]
    },
    {
      "cell_type": "code",
      "execution_count": null,
      "metadata": {
        "colab": {
          "base_uri": "https://localhost:8080/"
        },
        "id": "KnRYoQDbBMae",
        "outputId": "bdd9242b-50e1-44e7-bfa4-05918b347db4"
      },
      "outputs": [],
      "source": [
        "!python zode_pipeline.py --model_names resnet18,resnet34,resnet50,resnet101,densenet121 --score_method msp --ood_dataset texture --weights weights --device cuda"
      ]
    },
    {
      "cell_type": "code",
      "execution_count": null,
      "metadata": {
        "colab": {
          "base_uri": "https://localhost:8080/"
        },
        "id": "btFJ8Xa-BMYK",
        "outputId": "ed8d862c-7f18-4023-9fdd-ed701e11c757"
      },
      "outputs": [],
      "source": [
        "!python zode_pipeline.py --model_names resnet18,resnet34,resnet50,resnet101,densenet121 --score_method msp --ood_dataset places365 --weights weights --device cuda"
      ]
    }
  ],
  "metadata": {
    "accelerator": "GPU",
    "colab": {
      "gpuType": "T4",
      "provenance": []
    },
    "kernelspec": {
      "display_name": "Python 3",
      "name": "python3"
    },
    "language_info": {
      "name": "python"
    }
  },
  "nbformat": 4,
  "nbformat_minor": 0
}
