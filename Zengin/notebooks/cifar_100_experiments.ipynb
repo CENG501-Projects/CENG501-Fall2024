{
 "cells": [
  {
   "cell_type": "code",
   "execution_count": 1,
   "metadata": {
    "colab": {
     "base_uri": "https://localhost:8080/"
    },
    "collapsed": true,
    "id": "bBFr0WBQjV3I",
    "outputId": "4abd0f43-cf89-47ce-82e6-238797471326"
   },
   "outputs": [
    {
     "name": "stdout",
     "output_type": "stream",
     "text": [
      "Requirement already satisfied: timm in /usr/local/lib/python3.10/dist-packages (1.0.11)\n",
      "Requirement already satisfied: torch in /usr/local/lib/python3.10/dist-packages (from timm) (2.5.1+cu121)\n",
      "Requirement already satisfied: torchvision in /usr/local/lib/python3.10/dist-packages (from timm) (0.20.1+cu121)\n",
      "Requirement already satisfied: pyyaml in /usr/local/lib/python3.10/dist-packages (from timm) (6.0.2)\n",
      "Requirement already satisfied: huggingface_hub in /usr/local/lib/python3.10/dist-packages (from timm) (0.26.3)\n",
      "Requirement already satisfied: safetensors in /usr/local/lib/python3.10/dist-packages (from timm) (0.4.5)\n",
      "Requirement already satisfied: filelock in /usr/local/lib/python3.10/dist-packages (from huggingface_hub->timm) (3.16.1)\n",
      "Requirement already satisfied: fsspec>=2023.5.0 in /usr/local/lib/python3.10/dist-packages (from huggingface_hub->timm) (2024.10.0)\n",
      "Requirement already satisfied: packaging>=20.9 in /usr/local/lib/python3.10/dist-packages (from huggingface_hub->timm) (24.2)\n",
      "Requirement already satisfied: requests in /usr/local/lib/python3.10/dist-packages (from huggingface_hub->timm) (2.32.3)\n",
      "Requirement already satisfied: tqdm>=4.42.1 in /usr/local/lib/python3.10/dist-packages (from huggingface_hub->timm) (4.66.6)\n",
      "Requirement already satisfied: typing-extensions>=3.7.4.3 in /usr/local/lib/python3.10/dist-packages (from huggingface_hub->timm) (4.12.2)\n",
      "Requirement already satisfied: networkx in /usr/local/lib/python3.10/dist-packages (from torch->timm) (3.4.2)\n",
      "Requirement already satisfied: jinja2 in /usr/local/lib/python3.10/dist-packages (from torch->timm) (3.1.4)\n",
      "Requirement already satisfied: sympy==1.13.1 in /usr/local/lib/python3.10/dist-packages (from torch->timm) (1.13.1)\n",
      "Requirement already satisfied: mpmath<1.4,>=1.1.0 in /usr/local/lib/python3.10/dist-packages (from sympy==1.13.1->torch->timm) (1.3.0)\n",
      "Requirement already satisfied: numpy in /usr/local/lib/python3.10/dist-packages (from torchvision->timm) (1.26.4)\n",
      "Requirement already satisfied: pillow!=8.3.*,>=5.3.0 in /usr/local/lib/python3.10/dist-packages (from torchvision->timm) (11.0.0)\n",
      "Requirement already satisfied: MarkupSafe>=2.0 in /usr/local/lib/python3.10/dist-packages (from jinja2->torch->timm) (3.0.2)\n",
      "Requirement already satisfied: charset-normalizer<4,>=2 in /usr/local/lib/python3.10/dist-packages (from requests->huggingface_hub->timm) (3.4.0)\n",
      "Requirement already satisfied: idna<4,>=2.5 in /usr/local/lib/python3.10/dist-packages (from requests->huggingface_hub->timm) (3.10)\n",
      "Requirement already satisfied: urllib3<3,>=1.21.1 in /usr/local/lib/python3.10/dist-packages (from requests->huggingface_hub->timm) (2.2.3)\n",
      "Requirement already satisfied: certifi>=2017.4.17 in /usr/local/lib/python3.10/dist-packages (from requests->huggingface_hub->timm) (2024.8.30)\n"
     ]
    }
   ],
   "source": [
    "!pip install timm"
   ]
  },
  {
   "cell_type": "code",
   "execution_count": 2,
   "metadata": {
    "id": "9mUQXGx8kR8O"
   },
   "outputs": [],
   "source": [
    "import torch\n",
    "import torchvision\n",
    "import torchvision.transforms as transforms\n",
    "from torch.utils.data import DataLoader, random_split\n",
    "import pandas as pd\n",
    "from timm import create_model\n",
    "import os"
   ]
  },
  {
   "cell_type": "code",
   "execution_count": 3,
   "metadata": {
    "colab": {
     "base_uri": "https://localhost:8080/"
    },
    "id": "V0OSLbSWkl5l",
    "outputId": "5c309255-4dc4-4437-ad40-140c5704a69e"
   },
   "outputs": [
    {
     "name": "stdout",
     "output_type": "stream",
     "text": [
      "Using device: cuda\n"
     ]
    }
   ],
   "source": [
    "device = torch.device('cuda' if torch.cuda.is_available() else 'cpu')\n",
    "print(f\"Using device: {device}\")\n"
   ]
  },
  {
   "cell_type": "code",
   "execution_count": 4,
   "metadata": {
    "id": "kp_eOWj-kmyd"
   },
   "outputs": [],
   "source": [
    "transform = transforms.Compose([\n",
    "    transforms.Resize((224, 224)),\n",
    "    transforms.ToTensor(),\n",
    "    transforms.Normalize(mean=[0.485, 0.456, 0.406], std=[0.229, 0.224, 0.225])\n",
    "])"
   ]
  },
  {
   "cell_type": "code",
   "execution_count": null,
   "metadata": {
    "colab": {
     "base_uri": "https://localhost:8080/"
    },
    "id": "5F9TJYzDkqSo",
    "outputId": "80ee9510-1299-427d-dba3-995c5c4cee0d"
   },
   "outputs": [],
   "source": [
    "cifar100_test = torchvision.datasets.CIFAR100(root='./data', train=False, download=True, transform=transform)\n"
   ]
  },
  {
   "cell_type": "code",
   "execution_count": 6,
   "metadata": {
    "id": "o-T2Dfqhk0B8"
   },
   "outputs": [],
   "source": [
    "fine_tune_ratio = 0.4\n",
    "cifar100_fine_tune_size = int(fine_tune_ratio * len(cifar100_test))\n",
    "cifar100_eval_size = len(cifar100_test) - cifar100_fine_tune_size\n",
    "cifar100_fine_tune, cifar100_eval = random_split(cifar100_test, [cifar100_fine_tune_size, cifar100_eval_size])"
   ]
  },
  {
   "cell_type": "code",
   "execution_count": 7,
   "metadata": {
    "id": "pA0FSUJVk2jc"
   },
   "outputs": [],
   "source": [
    "batch_size = 32\n",
    "cifar100_fine_tune_loader = DataLoader(cifar100_fine_tune, batch_size=batch_size, shuffle=True)\n",
    "cifar100_eval_loader = DataLoader(cifar100_eval, batch_size=batch_size, shuffle=False)\n"
   ]
  },
  {
   "cell_type": "code",
   "execution_count": 8,
   "metadata": {
    "colab": {
     "base_uri": "https://localhost:8080/"
    },
    "id": "AHcdxABtk37j",
    "outputId": "171a7639-49d8-4f9f-d4bf-c6a647e36ba6"
   },
   "outputs": [
    {
     "name": "stderr",
     "output_type": "stream",
     "text": [
      "/usr/local/lib/python3.10/dist-packages/huggingface_hub/utils/_auth.py:94: UserWarning: \n",
      "The secret `HF_TOKEN` does not exist in your Colab secrets.\n",
      "To authenticate with the Hugging Face Hub, create a token in your settings tab (https://huggingface.co/settings/tokens), set it as secret in your Google Colab and restart your session.\n",
      "You will be able to reuse this secret in all of your notebooks.\n",
      "Please note that authentication is recommended but still optional to access public models or datasets.\n",
      "  warnings.warn(\n"
     ]
    }
   ],
   "source": [
    "models = {\n",
    "    \"ViT-B-16\": create_model('vit_base_patch16_224', pretrained=True),\n",
    "    \"ViT-L-16\": create_model('vit_large_patch16_224', pretrained=True),\n",
    "    \"DeiT-B\": create_model('deit_base_patch16_224', pretrained=True),\n",
    "}"
   ]
  },
  {
   "cell_type": "code",
   "execution_count": null,
   "metadata": {
    "id": "UZSF9EsglAtU"
   },
   "outputs": [],
   "source": [
    "num_classes_cifar100 = 100\n",
    "for model_name, model in models.items():\n",
    "    model.head = torch.nn.Linear(model.head.in_features, num_classes_cifar100)  \n",
    "    model.to(device)"
   ]
  },
  {
   "cell_type": "code",
   "execution_count": null,
   "metadata": {
    "id": "pJOXY8yMlBtn"
   },
   "outputs": [],
   "source": [
    "def fine_tune_model(model, data_loader, num_epochs=4, learning_rate=1e-4):\n",
    "    \n",
    "    for param in model.parameters():\n",
    "        param.requires_grad = False\n",
    "    for param in model.head.parameters():\n",
    "        param.requires_grad = True\n",
    "\n",
    "    \n",
    "    criterion = torch.nn.CrossEntropyLoss()\n",
    "    optimizer = torch.optim.Adam(model.head.parameters(), lr=learning_rate)\n",
    "\n",
    "   \n",
    "    model.train()\n",
    "    for epoch in range(num_epochs):\n",
    "        running_loss = 0.0\n",
    "        for images, labels in data_loader:\n",
    "            images, labels = images.to(device), labels.to(device)\n",
    "            optimizer.zero_grad()\n",
    "            outputs = model(images)\n",
    "            loss = criterion(outputs, labels)\n",
    "            loss.backward()\n",
    "            optimizer.step()\n",
    "            running_loss += loss.item()\n",
    "        print(f\"Epoch {epoch+1}/{num_epochs}, Loss: {running_loss/len(data_loader):.4f}\")"
   ]
  },
  {
   "cell_type": "code",
   "execution_count": 11,
   "metadata": {
    "colab": {
     "base_uri": "https://localhost:8080/"
    },
    "id": "VVhceEKslFYi",
    "outputId": "4cb913aa-3a01-4af2-aaa1-e769c8754cb1"
   },
   "outputs": [
    {
     "name": "stdout",
     "output_type": "stream",
     "text": [
      "Fine-tuning ViT-B-16 on CIFAR-100...\n",
      "Epoch 1/4, Loss: 4.3270\n",
      "Epoch 2/4, Loss: 3.0521\n",
      "Epoch 3/4, Loss: 2.1871\n",
      "Epoch 4/4, Loss: 1.6441\n",
      "Fine-tuning ViT-L-16 on CIFAR-100...\n",
      "Epoch 1/4, Loss: 3.9570\n",
      "Epoch 2/4, Loss: 1.6315\n",
      "Epoch 3/4, Loss: 0.8981\n",
      "Epoch 4/4, Loss: 0.6231\n",
      "Fine-tuning DeiT-B on CIFAR-100...\n",
      "Epoch 1/4, Loss: 4.3915\n",
      "Epoch 2/4, Loss: 3.7369\n",
      "Epoch 3/4, Loss: 3.1688\n",
      "Epoch 4/4, Loss: 2.6885\n"
     ]
    }
   ],
   "source": [
    "for model_name, model in models.items():\n",
    "    print(f\"Fine-tuning {model_name} on CIFAR-100...\")\n",
    "    fine_tune_model(model, cifar100_fine_tune_loader)"
   ]
  },
  {
   "cell_type": "code",
   "execution_count": null,
   "metadata": {
    "id": "WyGj0eABlIea"
   },
   "outputs": [],
   "source": [
    "def evaluate_and_save_results(model, data_loader, dataset_name, model_name, output_dir=\"./results\"):\n",
    "    \"\"\"\n",
    "    Evaluate the model and save results to a CSV file.\n",
    "    \"\"\"\n",
    "    results = []\n",
    "    correct = 0\n",
    "    total = 0\n",
    "    model.eval()\n",
    "    with torch.no_grad():\n",
    "        for batch_idx, (images, labels) in enumerate(data_loader):\n",
    "            images, labels = images.to(device), labels.to(device)\n",
    "            outputs = model(images)\n",
    "            confidences = torch.softmax(outputs, dim=1).max(dim=1).values\n",
    "            _, predicted = torch.max(outputs, 1)\n",
    "\n",
    "            \n",
    "            total += labels.size(0)\n",
    "            correct += (predicted == labels).sum().item()\n",
    "\n",
    "            \n",
    "            for i in range(len(labels)):\n",
    "                results.append({\n",
    "                    'image_index': batch_idx * len(labels) + i,\n",
    "                    'true_label': labels[i].item(),\n",
    "                    'predicted_label': predicted[i].item(),\n",
    "                    'confidence': confidences[i].item(),\n",
    "                    'correct': labels[i].item() == predicted[i].item()\n",
    "                })\n",
    "\n",
    "    \n",
    "    accuracy = 100 * correct / total\n",
    "    print(f\"Accuracy of {model_name} on {dataset_name}: {accuracy:.2f}%\")\n",
    "\n",
    "    \n",
    "    df = pd.DataFrame(results)\n",
    "\n",
    "    \n",
    "    os.makedirs(output_dir, exist_ok=True)\n",
    "\n",
    "    \n",
    "    output_file = f\"{output_dir}/{model_name}_{dataset_name}_results.csv\"\n",
    "    df.to_csv(output_file, index=False)\n",
    "    print(f\"Results saved to {output_file}\")"
   ]
  },
  {
   "cell_type": "code",
   "execution_count": 13,
   "metadata": {
    "colab": {
     "base_uri": "https://localhost:8080/"
    },
    "id": "-TOf7gkGl1N3",
    "outputId": "ab8d50c4-2117-4319-a09e-8cc09204a7d4"
   },
   "outputs": [
    {
     "name": "stdout",
     "output_type": "stream",
     "text": [
      "Evaluating ViT-B-16 on CIFAR-100...\n",
      "Accuracy of ViT-B-16 on CIFAR-100: 65.12%\n",
      "Results saved to ./results/ViT-B-16_CIFAR-100_results.csv\n",
      "Evaluating ViT-L-16 on CIFAR-100...\n",
      "Accuracy of ViT-L-16 on CIFAR-100: 81.63%\n",
      "Results saved to ./results/ViT-L-16_CIFAR-100_results.csv\n",
      "Evaluating DeiT-B on CIFAR-100...\n",
      "Accuracy of DeiT-B on CIFAR-100: 57.28%\n",
      "Results saved to ./results/DeiT-B_CIFAR-100_results.csv\n"
     ]
    }
   ],
   "source": [
    "dataset_name = \"CIFAR-100\"\n",
    "for model_name, model in models.items():\n",
    "    print(f\"Evaluating {model_name} on {dataset_name}...\")\n",
    "    evaluate_and_save_results(model, cifar100_eval_loader, dataset_name, model_name)"
   ]
  }
 ],
 "metadata": {
  "accelerator": "GPU",
  "colab": {
   "gpuType": "L4",
   "machine_shape": "hm",
   "provenance": []
  },
  "kernelspec": {
   "display_name": "Python 3",
   "name": "python3"
  },
  "language_info": {
   "name": "python"
  }
 },
 "nbformat": 4,
 "nbformat_minor": 0
}
